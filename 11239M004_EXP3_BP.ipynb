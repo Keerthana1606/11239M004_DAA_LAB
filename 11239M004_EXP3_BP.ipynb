{
  "nbformat": 4,
  "nbformat_minor": 0,
  "metadata": {
    "colab": {
      "provenance": [],
      "authorship_tag": "ABX9TyM7h9iahhpFgEXptiChRCFR",
      "include_colab_link": true
    },
    "kernelspec": {
      "name": "python3",
      "display_name": "Python 3"
    },
    "language_info": {
      "name": "python"
    }
  },
  "cells": [
    {
      "cell_type": "markdown",
      "metadata": {
        "id": "view-in-github",
        "colab_type": "text"
      },
      "source": [
        "<a href=\"https://colab.research.google.com/github/Keerthana1606/11239M004_DAA_LAB/blob/main/11239M004_EXP3_BP.ipynb\" target=\"_parent\"><img src=\"https://colab.research.google.com/assets/colab-badge.svg\" alt=\"Open In Colab\"/></a>"
      ]
    },
    {
      "cell_type": "code",
      "execution_count": 1,
      "metadata": {
        "colab": {
          "base_uri": "https://localhost:8080/"
        },
        "id": "93y6drzg1Ks1",
        "outputId": "1256a66f-55cc-4294-a53a-db47b2db5884"
      },
      "outputs": [
        {
          "output_type": "stream",
          "name": "stdout",
          "text": [
            "Number of bins in first fit: 4\n",
            "Number of bins in next fit: 5\n",
            "Number of bins in first fit decreasing: 4\n",
            "First fit: [[5, 3, 2], [7, 1], [8], [4, 6]]\n",
            "Next fit: [[5], [7], [8], [3, 2, 4, 1], [6]]\n",
            "First fit decreasing: [[8, 2], [7, 3], [6, 4], [5, 1]]\n"
          ]
        }
      ],
      "source": [
        "def first_fit(items, bin_capacity):\n",
        "    bins = []\n",
        "    for item in items:\n",
        "        for b in bins:\n",
        "            if sum(b) + item <= bin_capacity:\n",
        "                b.append(item)\n",
        "                break\n",
        "        else:\n",
        "            bins.append([item])\n",
        "    return bins\n",
        "\n",
        "def next_fit(items, bin_capacity):\n",
        "    bins = []\n",
        "    current_bin = []\n",
        "    for item in items:\n",
        "        if sum(current_bin) + item <= bin_capacity:\n",
        "            current_bin.append(item)\n",
        "        else:\n",
        "            bins.append(current_bin)\n",
        "            current_bin = [item]\n",
        "    bins.append(current_bin)\n",
        "    return bins\n",
        "\n",
        "def first_fit_decreasing(items, bin_capacity):\n",
        "    sorted_items = sorted(items, reverse=True)\n",
        "    return first_fit(sorted_items, bin_capacity)\n",
        "\n",
        "items = [5, 7, 8, 3, 2, 4, 1, 6]\n",
        "bin_capacity = 10\n",
        "\n",
        "print(\"Number of bins in first fit:\", len(first_fit(items, bin_capacity)))\n",
        "print(\"Number of bins in next fit:\", len(next_fit(items, bin_capacity)))\n",
        "print(\"Number of bins in first fit decreasing:\", len(first_fit_decreasing(items, bin_capacity)))\n",
        "\n",
        "print(\"First fit:\", first_fit(items, bin_capacity))\n",
        "print(\"Next fit:\", next_fit(items, bin_capacity))\n",
        "print(\"First fit decreasing:\", first_fit_decreasing(items, bin_capacity))"
      ]
    }
  ]
}