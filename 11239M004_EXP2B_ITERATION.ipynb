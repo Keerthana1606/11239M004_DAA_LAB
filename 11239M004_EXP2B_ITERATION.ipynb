{
  "nbformat": 4,
  "nbformat_minor": 0,
  "metadata": {
    "colab": {
      "provenance": [],
      "authorship_tag": "ABX9TyPRfhf+pRfAc9VumGmFdppJ",
      "include_colab_link": true
    },
    "kernelspec": {
      "name": "python3",
      "display_name": "Python 3"
    },
    "language_info": {
      "name": "python"
    }
  },
  "cells": [
    {
      "cell_type": "markdown",
      "metadata": {
        "id": "view-in-github",
        "colab_type": "text"
      },
      "source": [
        "<a href=\"https://colab.research.google.com/github/Keerthana1606/11239M004_DAA_LAB/blob/main/11239M004_EXP2B_ITERATION.ipynb\" target=\"_parent\"><img src=\"https://colab.research.google.com/assets/colab-badge.svg\" alt=\"Open In Colab\"/></a>"
      ]
    },
    {
      "cell_type": "code",
      "execution_count": 1,
      "metadata": {
        "colab": {
          "base_uri": "https://localhost:8080/"
        },
        "id": "3x8-cCzA0LFR",
        "outputId": "a00d9d44-cb19-4c21-8f6f-a87f0356077a"
      },
      "outputs": [
        {
          "output_type": "stream",
          "name": "stdout",
          "text": [
            "0 1 1 2 3 5 8 13 21 34 \n"
          ]
        }
      ],
      "source": [
        "\n",
        "def fibonacci_series(n):\n",
        "    a, b = 0, 1\n",
        "    for _ in range(n):\n",
        "        print(a, end=\" \")\n",
        "        a, b = b, a + b\n",
        "    print()\n",
        "fibonacci_series(10)"
      ]
    }
  ]
}